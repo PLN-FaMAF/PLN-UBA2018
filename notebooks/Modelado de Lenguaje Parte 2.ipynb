{
 "cells": [
  {
   "cell_type": "markdown",
   "metadata": {},
   "source": [
    "# Modelado de Lenguaje Parte 2\n",
    "\n",
    "\n",
    "## Suavizado \"add-one\"\n",
    "\n",
    "Probamos con un modelo de bigramas (n=2) entrenado con las siguientes dos oraciones:"
   ]
  },
  {
   "cell_type": "code",
   "execution_count": 4,
   "metadata": {},
   "outputs": [],
   "source": [
    "sents = [\n",
    "    'el gato come pescado .'.split(),\n",
    "    'la gata come salmón .'.split(),\n",
    "]"
   ]
  },
  {
   "cell_type": "markdown",
   "metadata": {},
   "source": [
    "Luego, los conteos de bigramas y unigramas incluirán, entre otras cosas, los siguientes elementos:"
   ]
  },
  {
   "cell_type": "code",
   "execution_count": 10,
   "metadata": {},
   "outputs": [],
   "source": [
    "count = {\n",
    "    ('el',): 1,\n",
    "    ('come',): 2,\n",
    "    # ... mas unigramas ...\n",
    "    ('el', 'gato'): 1,\n",
    "    ('come', 'pescado'): 1,\n",
    "    ('come', 'salmón'): 1,\n",
    "    # ... mas bigramas ...\n",
    "}"
   ]
  },
  {
   "cell_type": "markdown",
   "metadata": {},
   "source": [
    "Calculemos algunas probabilidades sin \"add one\" de ejemplo:"
   ]
  },
  {
   "cell_type": "code",
   "execution_count": 24,
   "metadata": {},
   "outputs": [
    {
     "name": "stdout",
     "output_type": "stream",
     "text": [
      "1.0\n",
      "0.0\n",
      "0.5\n",
      "0.0\n"
     ]
    }
   ],
   "source": [
    "def cond_prob(token, prev_tokens):\n",
    "    tokens = prev_tokens + (token,)\n",
    "    return float(count.get(tokens, 0)) / float(count.get(prev_tokens, 0))\n",
    "\n",
    "print(cond_prob('gato', ('el',)))\n",
    "print(cond_prob('pollo', ('el',)))\n",
    "# print(cond_prob('pollos', ('los',)))\n",
    "\n",
    "print(cond_prob('pescado', ('come',)))  # o salmón\n",
    "print(cond_prob('salame', ('come',)))  # o salmón"
   ]
  },
  {
   "cell_type": "markdown",
   "metadata": {},
   "source": [
    "Ahora calculemos las mismas probabilidades pero con el suavizado \"add one\":"
   ]
  },
  {
   "cell_type": "code",
   "execution_count": 25,
   "metadata": {},
   "outputs": [
    {
     "name": "stdout",
     "output_type": "stream",
     "text": [
      "0.2\n",
      "0.1\n",
      "0.18181818181818182\n",
      "0.09090909090909091\n"
     ]
    }
   ],
   "source": [
    "voc = {'el', 'gato', 'come', 'pescado', '.', '</s>', 'la', 'gata', 'salmón'}\n",
    "V = len(voc)\n",
    "\n",
    "def add_one_cond_prob(token, prev_tokens):\n",
    "    tokens = prev_tokens + (token,)\n",
    "    return float(count.get(tokens, 0) + 1) / float(count.get(prev_tokens, 0) + V)\n",
    "\n",
    "print(add_one_cond_prob('gato', ('el',)))\n",
    "print(add_one_cond_prob('pollo', ('el',)))\n",
    "# print(cond_prob('pollos', ('los',)))\n",
    "\n",
    "print(add_one_cond_prob('pescado', ('come',)))  # o salmón\n",
    "print(add_one_cond_prob('salame', ('come',)))  # o salmón"
   ]
  },
  {
   "cell_type": "markdown",
   "metadata": {},
   "source": [
    "Tareas pendientes:\n",
    "- Ninguna, diría. Sólo pasar este código a la clase AddOneNGram en ngram.py."
   ]
  },
  {
   "cell_type": "markdown",
   "metadata": {},
   "source": [
    "## Suavizado por Interpolación"
   ]
  },
  {
   "cell_type": "markdown",
   "metadata": {},
   "source": [
    "Esta vez probamos con un modelo de trigramas. Supongamos los siguientes conteos:"
   ]
  },
  {
   "cell_type": "code",
   "execution_count": 45,
   "metadata": {},
   "outputs": [],
   "source": [
    "count = {\n",
    "    ('come',): 2,\n",
    "    # ... más unigramas ...\n",
    "    \n",
    "    ('gato', 'come'): 1,\n",
    "    ('come', 'pescado'): 1,\n",
    "    ('come', 'salmón'): 1,\n",
    "    # ... más bigramas ...\n",
    "    \n",
    "    ('gato', 'come', 'pescado'): 1,    \n",
    "    # ... más trigramas ...\n",
    "}\n",
    "\n",
    "def cond_prob(token, prev_tokens):\n",
    "    tokens = prev_tokens + (token,)\n",
    "    return float(count.get(tokens, 0)) / float(count.get(prev_tokens, 0))\n"
   ]
  },
  {
   "cell_type": "markdown",
   "metadata": {},
   "source": [
    "Y veamos el caso de interpolación específico para 3-gramas:"
   ]
  },
  {
   "cell_type": "code",
   "execution_count": 50,
   "metadata": {},
   "outputs": [
    {
     "name": "stdout",
     "output_type": "stream",
     "text": [
      "0.6851851851851851\n",
      "0.18518518518518517\n",
      "0.018518518518518524\n"
     ]
    }
   ],
   "source": [
    "gamma = 1\n",
    "\n",
    "def interpolated_cond_prob(token, prev_tokens):\n",
    "    cond_ml1 = cond_prob(token, prev_tokens)              # 2-uple: (u,v)\n",
    "    cond_ml2 = cond_prob(token, prev_tokens[1:])          # 1-uple: (v,)\n",
    "    cond_ml3 = add_one_cond_prob(token, prev_tokens[2:])  # 0-uple: ()\n",
    "\n",
    "    lambda1 = count[prev_tokens] / (count[prev_tokens] + gamma)\n",
    "    lambda2 = (1 - lambda1) * count[prev_tokens[1:]] / (count[prev_tokens[1:]] + gamma)\n",
    "    lambda3 = 1 - (lambda1 + lambda2)\n",
    "\n",
    "    prob = lambda1 * cond_ml1 + lambda2 * cond_ml2 + lambda3 * cond_ml3\n",
    "    return prob\n",
    "\n",
    "# cond_prob('pescado', ('gato', 'come'))\n",
    "print(interpolated_cond_prob('pescado', ('gato', 'come')))\n",
    "print(interpolated_cond_prob('salmón', ('gato', 'come')))\n",
    "print(interpolated_cond_prob('salame', ('gato', 'come')))\n"
   ]
  },
  {
   "cell_type": "markdown",
   "metadata": {},
   "source": [
    "Puede verse cómo afecta el parámetro gamma al suavizado (a maś grande, más fuerte el suavizado).\n",
    "\n",
    "Tareas pendientes:\n",
    "- Generalizar el cálculo de la interpolación para n-gramas en general."
   ]
  }
 ],
 "metadata": {
  "kernelspec": {
   "display_name": "Python 3",
   "language": "python",
   "name": "python3"
  },
  "language_info": {
   "codemirror_mode": {
    "name": "ipython",
    "version": 3
   },
   "file_extension": ".py",
   "mimetype": "text/x-python",
   "name": "python",
   "nbconvert_exporter": "python",
   "pygments_lexer": "ipython3",
   "version": "3.5.2"
  }
 },
 "nbformat": 4,
 "nbformat_minor": 2
}
